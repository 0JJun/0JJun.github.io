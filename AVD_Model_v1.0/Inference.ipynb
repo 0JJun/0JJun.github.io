{
 "cells": [
  {
   "cell_type": "code",
   "execution_count": 1,
   "id": "c276fe24",
   "metadata": {},
   "outputs": [],
   "source": [
    "import pandas as pd \n",
    "import numpy as np\n",
    "\n",
    "from module import utils\n",
    "from tensorflow.keras.models import Model, load_model"
   ]
  },
  {
   "cell_type": "code",
   "execution_count": 2,
   "id": "2f0c58a8",
   "metadata": {},
   "outputs": [],
   "source": [
    "model, avg, std = utils.load_trained_model(\"my_model_20211130\")"
   ]
  },
  {
   "cell_type": "code",
   "execution_count": 3,
   "id": "a744bd16",
   "metadata": {},
   "outputs": [],
   "source": [
    "# CSV 파일에서 데이터를 읽어와 numpy array의 데이터로 변환 하여 모델 Test 준비\n",
    "X = utils.csv_to_test_data(\"inference_healthindex.csv\")"
   ]
  },
  {
   "cell_type": "code",
   "execution_count": 4,
   "id": "b6fd69fa",
   "metadata": {},
   "outputs": [],
   "source": [
    "# 입력 데이터 z score normalization\n",
    "X = utils.z_score_normalization(X, avg, std)"
   ]
  },
  {
   "cell_type": "code",
   "execution_count": 5,
   "id": "9bc4082e",
   "metadata": {},
   "outputs": [],
   "source": [
    "# Inference\n",
    "labels, confidences = utils.inference(model, X)"
   ]
  },
  {
   "cell_type": "code",
   "execution_count": 6,
   "id": "5f2b9e8f",
   "metadata": {},
   "outputs": [],
   "source": [
    "np.savetxt(\"Label.csv\", labels, delimiter=\",\",header='Label')\n",
    "np.savetxt(\"confidence.csv\", confidences, delimiter=\",\",header='Confidences')"
   ]
  }
 ],
 "metadata": {
  "kernelspec": {
   "display_name": "Python 3 (ipykernel)",
   "language": "python",
   "name": "python3"
  },
  "language_info": {
   "codemirror_mode": {
    "name": "ipython",
    "version": 3
   },
   "file_extension": ".py",
   "mimetype": "text/x-python",
   "name": "python",
   "nbconvert_exporter": "python",
   "pygments_lexer": "ipython3",
   "version": "3.8.12"
  }
 },
 "nbformat": 4,
 "nbformat_minor": 5
}
